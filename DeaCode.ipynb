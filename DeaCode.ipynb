{
 "cells": [
  {
   "cell_type": "code",
   "execution_count": 2,
   "id": "exclusive-glance",
   "metadata": {
    "editable": false,
    "nbgrader": {
     "cell_type": "code",
     "checksum": "35f58d436427389735ebb75c76f5f772",
     "grade": false,
     "grade_id": "cell-ba1c5e2d317450ce",
     "locked": true,
     "schema_version": 3,
     "solution": false,
     "task": false
    }
   },
   "outputs": [],
   "source": [
    "# Initialisation Cell\n",
    "from __future__ import print_function, division\n",
    "from IPython.display import display, HTML, Javascript\n",
    "from matplotlib import pyplot as plt\n",
    "import scipy.stats as stats\n",
    "import seaborn as sns\n",
    "import pandas as pd\n",
    "import numpy as np\n",
    "\n",
    "%matplotlib inline\n",
    "\n",
    "sns.set_context(\"talk\")\n",
    "sns.set_style('darkgrid', {'figure.facecolor': '(0,0,0,0)'}) \n",
    "#'axes.facecolor': '(0,0,0,0)'\n"
   ]
  },
  {
   "cell_type": "code",
   "execution_count": 3,
   "id": "indonesian-martin",
   "metadata": {},
   "outputs": [
    {
     "output_type": "execute_result",
     "data": {
      "text/plain": [
       "      pid  w5_hhid w5_questionnaire                             w5_match  \\\n",
       "0  640576   500000            Adult                    Matched Last only   \n",
       "1  636991   500000            Proxy  Unmatched: No School Data collected   \n",
       "2  405734   500001            Adult                            Unmatched   \n",
       "3  630858   500002            Child               No Schooling Completed   \n",
       "4  731651   500002            Adult                    Matched Last only   \n",
       "\n",
       "  w5_edlstm_schcd w5_edlstm_prov w5_edlstm_quin w5_edlstm_phase  \\\n",
       "0          102905   Eastern Cape              3       Secondary   \n",
       "1             NaN            NaN            NaN             NaN   \n",
       "2             NaN            NaN     Don't know             NaN   \n",
       "3             NaN            NaN            NaN             NaN   \n",
       "4          105027        Limpopo              1       Secondary   \n",
       "\n",
       "  w5_edlstm_nofee            w5_edlstm_exdept  ... w5_ed17m_schcd  \\\n",
       "0      Don't Know                         HOR  ...            NaN   \n",
       "1             NaN                         NaN  ...            NaN   \n",
       "2             NaN                         NaN  ...            NaN   \n",
       "3             NaN                         NaN  ...            NaN   \n",
       "4              No  Self-governing territories  ...            NaN   \n",
       "\n",
       "  w5_ed17m_prov w5_ed17m_quin w5_ed17m_phase w5_ed17m_nofee w5_ed17m_exdept  \\\n",
       "0           NaN           NaN            NaN            NaN             NaN   \n",
       "1           NaN           NaN            NaN            NaN             NaN   \n",
       "2           NaN           NaN            NaN            NaN             NaN   \n",
       "3           NaN           NaN            NaN            NaN             NaN   \n",
       "4           NaN           NaN            NaN            NaN             NaN   \n",
       "\n",
       "  w5_poldistr_id_15 w5_poldistr_distance_cat_15 w5_polnear_id_15  \\\n",
       "0          900782.0                  >1 & <=5km         900782.0   \n",
       "1          900782.0                  >1 & <=5km         900782.0   \n",
       "2          900587.0                       <=1km         900587.0   \n",
       "3          900093.0               >10 & <= 20km         901066.0   \n",
       "4          900093.0               >10 & <= 20km         901066.0   \n",
       "\n",
       "  w5_polnear_distance_cat_15  \n",
       "0                 >1 & <=5km  \n",
       "1                 >1 & <=5km  \n",
       "2                      <=1km  \n",
       "3              >10 & <= 20km  \n",
       "4              >10 & <= 20km  \n",
       "\n",
       "[5 rows x 38 columns]"
      ],
      "text/html": "<div>\n<style scoped>\n    .dataframe tbody tr th:only-of-type {\n        vertical-align: middle;\n    }\n\n    .dataframe tbody tr th {\n        vertical-align: top;\n    }\n\n    .dataframe thead th {\n        text-align: right;\n    }\n</style>\n<table border=\"1\" class=\"dataframe\">\n  <thead>\n    <tr style=\"text-align: right;\">\n      <th></th>\n      <th>pid</th>\n      <th>w5_hhid</th>\n      <th>w5_questionnaire</th>\n      <th>w5_match</th>\n      <th>w5_edlstm_schcd</th>\n      <th>w5_edlstm_prov</th>\n      <th>w5_edlstm_quin</th>\n      <th>w5_edlstm_phase</th>\n      <th>w5_edlstm_nofee</th>\n      <th>w5_edlstm_exdept</th>\n      <th>...</th>\n      <th>w5_ed17m_schcd</th>\n      <th>w5_ed17m_prov</th>\n      <th>w5_ed17m_quin</th>\n      <th>w5_ed17m_phase</th>\n      <th>w5_ed17m_nofee</th>\n      <th>w5_ed17m_exdept</th>\n      <th>w5_poldistr_id_15</th>\n      <th>w5_poldistr_distance_cat_15</th>\n      <th>w5_polnear_id_15</th>\n      <th>w5_polnear_distance_cat_15</th>\n    </tr>\n  </thead>\n  <tbody>\n    <tr>\n      <th>0</th>\n      <td>640576</td>\n      <td>500000</td>\n      <td>Adult</td>\n      <td>Matched Last only</td>\n      <td>102905</td>\n      <td>Eastern Cape</td>\n      <td>3</td>\n      <td>Secondary</td>\n      <td>Don't Know</td>\n      <td>HOR</td>\n      <td>...</td>\n      <td>NaN</td>\n      <td>NaN</td>\n      <td>NaN</td>\n      <td>NaN</td>\n      <td>NaN</td>\n      <td>NaN</td>\n      <td>900782.0</td>\n      <td>&gt;1 &amp; &lt;=5km</td>\n      <td>900782.0</td>\n      <td>&gt;1 &amp; &lt;=5km</td>\n    </tr>\n    <tr>\n      <th>1</th>\n      <td>636991</td>\n      <td>500000</td>\n      <td>Proxy</td>\n      <td>Unmatched: No School Data collected</td>\n      <td>NaN</td>\n      <td>NaN</td>\n      <td>NaN</td>\n      <td>NaN</td>\n      <td>NaN</td>\n      <td>NaN</td>\n      <td>...</td>\n      <td>NaN</td>\n      <td>NaN</td>\n      <td>NaN</td>\n      <td>NaN</td>\n      <td>NaN</td>\n      <td>NaN</td>\n      <td>900782.0</td>\n      <td>&gt;1 &amp; &lt;=5km</td>\n      <td>900782.0</td>\n      <td>&gt;1 &amp; &lt;=5km</td>\n    </tr>\n    <tr>\n      <th>2</th>\n      <td>405734</td>\n      <td>500001</td>\n      <td>Adult</td>\n      <td>Unmatched</td>\n      <td>NaN</td>\n      <td>NaN</td>\n      <td>Don't know</td>\n      <td>NaN</td>\n      <td>NaN</td>\n      <td>NaN</td>\n      <td>...</td>\n      <td>NaN</td>\n      <td>NaN</td>\n      <td>NaN</td>\n      <td>NaN</td>\n      <td>NaN</td>\n      <td>NaN</td>\n      <td>900587.0</td>\n      <td>&lt;=1km</td>\n      <td>900587.0</td>\n      <td>&lt;=1km</td>\n    </tr>\n    <tr>\n      <th>3</th>\n      <td>630858</td>\n      <td>500002</td>\n      <td>Child</td>\n      <td>No Schooling Completed</td>\n      <td>NaN</td>\n      <td>NaN</td>\n      <td>NaN</td>\n      <td>NaN</td>\n      <td>NaN</td>\n      <td>NaN</td>\n      <td>...</td>\n      <td>NaN</td>\n      <td>NaN</td>\n      <td>NaN</td>\n      <td>NaN</td>\n      <td>NaN</td>\n      <td>NaN</td>\n      <td>900093.0</td>\n      <td>&gt;10 &amp; &lt;= 20km</td>\n      <td>901066.0</td>\n      <td>&gt;10 &amp; &lt;= 20km</td>\n    </tr>\n    <tr>\n      <th>4</th>\n      <td>731651</td>\n      <td>500002</td>\n      <td>Adult</td>\n      <td>Matched Last only</td>\n      <td>105027</td>\n      <td>Limpopo</td>\n      <td>1</td>\n      <td>Secondary</td>\n      <td>No</td>\n      <td>Self-governing territories</td>\n      <td>...</td>\n      <td>NaN</td>\n      <td>NaN</td>\n      <td>NaN</td>\n      <td>NaN</td>\n      <td>NaN</td>\n      <td>NaN</td>\n      <td>900093.0</td>\n      <td>&gt;10 &amp; &lt;= 20km</td>\n      <td>901066.0</td>\n      <td>&gt;10 &amp; &lt;= 20km</td>\n    </tr>\n  </tbody>\n</table>\n<p>5 rows × 38 columns</p>\n</div>"
     },
     "metadata": {},
     "execution_count": 3
    }
   ],
   "source": [
    "df = pd.read_stata('DataBase.dta')\n",
    "#df['w5_a_dob_d']\n",
    "df.columns\n",
    "df.head()\n"
   ]
  },
  {
   "source": [
    "# 0. ...A Catchy Title... (e.g. \"Are people getting poorer?\")"
   ],
   "cell_type": "markdown",
   "metadata": {}
  },
  {
   "source": [
    "## Executive Summary\n",
    "The purpose of the notebook is to analyse census and income data to determine if there is a correlation betweeen how much people earn today with regards to their buying power <this is only for now, pleas refine when we know more>\n",
    "What is being modelled are the regression charts of earning amounts of the decade, graduation rates over the decade, as well as GDP and economic expenditure for citizens. Analysing all these simulataneously we have determined <please add in findings here>\n",
    "Limitations have included, time, database availability, <add more with regards to data normalisation and standardization>"
   ],
   "cell_type": "markdown",
   "metadata": {}
  },
  {
   "source": [
    "## Introduction\n",
    "\n",
    "problem context: the landscape of SA today, with gross inequality and a widening financial gap we aim to see if people of SA, specifically the previously disadavantaged, have amassed more financial power as a result of greater access to education and employment opportunities. We are motivated by finding (a motiovation...)\n",
    "Questions include: Is there a significant relationship between education and income level?\n",
    "Methodology: We will take the data, Normalise the data to the 3rd normal form, we will then graph a set regression models that indicate the change over the years with regards to both eduation and income levels. We will then use the insights gained from this to formulate a response.\n",
    "Section Contents Overview: the following will be a description of the original datasets, the changes perfromed on these datasets, and initial visualisations on data correlations."
   ],
   "cell_type": "markdown",
   "metadata": {}
  },
  {
   "source": [
    "## Data Wrangling\n",
    "The data was originaly sourced from the [UCT NIDS databse] (http://www.nids.uct.ac.za/nids-data/program-library/derived-files) \n",
    "The date downloaded will be gotten from (Rutendo,pls ask)"
   ],
   "cell_type": "markdown",
   "metadata": {}
  }
 ],
 "metadata": {
  "kernelspec": {
   "display_name": "Python 3",
   "language": "python",
   "name": "python3"
  },
  "language_info": {
   "codemirror_mode": {
    "name": "ipython",
    "version": 3
   },
   "file_extension": ".py",
   "mimetype": "text/x-python",
   "name": "python",
   "nbconvert_exporter": "python",
   "pygments_lexer": "ipython3",
   "version": "3.8.1"
  }
 },
 "nbformat": 4,
 "nbformat_minor": 5
}