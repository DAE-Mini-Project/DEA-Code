{
 "cells": [
  {
   "cell_type": "code",
   "execution_count": 2,
   "id": "exclusive-glance",
   "metadata": {
    "editable": false,
    "nbgrader": {
     "cell_type": "code",
     "checksum": "35f58d436427389735ebb75c76f5f772",
     "grade": false,
     "grade_id": "cell-ba1c5e2d317450ce",
     "locked": true,
     "schema_version": 3,
     "solution": false,
     "task": false
    }
   },
   "outputs": [],
   "source": [
    "# Initialisation Cell\n",
    "from __future__ import print_function, division\n",
    "from IPython.display import display, HTML, Javascript\n",
    "from matplotlib import pyplot as plt\n",
    "import scipy.stats as stats\n",
    "import seaborn as sns\n",
    "import pandas as pd\n",
    "import numpy as np\n",
    "\n",
    "%matplotlib inline\n",
    "\n",
    "sns.set_context(\"talk\")\n",
    "sns.set_style('darkgrid', {'figure.facecolor': '(0,0,0,0)'}) \n",
    "#'axes.facecolor': '(0,0,0,0)'\n"
   ]
  },
  {
   "source": [
    "# 0. ...A Catchy Title... (e.g. \"Are people getting poorer?\")"
   ],
   "cell_type": "markdown",
   "metadata": {}
  },
  {
   "source": [
    "## Executive Summary\n",
    "The purpose of the notebook is to analyse census and income data to determine if there is a correlation betweeen how much people earn today with regards to their buying power <this is only for now, pleas refine when we know more>\n",
    "What is being modelled are the regression charts of earning amounts of the decade, graduation rates over the decade, as well as GDP and economic expenditure for citizens. Analysing all these simulataneously we have determined <please add in findings here>\n",
    "Limitations have included, time, database availability, <add more with regards to data normalisation and standardization>"
   ],
   "cell_type": "markdown",
   "metadata": {}
  },
  {
   "source": [
    "## Introduction\n",
    "\n",
    "problem context: the landscape of SA today, with gross inequality and a widening financial gap we aim to see if people of SA, specifically the previously disadavantaged, have amassed more financial power as a result of greater access to education and employment opportunities. We are motivated by finding (a motiovation...)\n",
    "Questions include: Is there a significant relationship between education and income level?\n",
    "Methodology: We will take the data, Normalise the data to the 3rd normal form, we will then graph a set regression models that indicate the change over the years with regards to both eduation and income levels. We will then use the insights gained from this to formulate a response.\n",
    "Section Contents Overview: the following will be a description of the original datasets, the changes perfromed on these datasets, and initial visualisations on data correlations."
   ],
   "cell_type": "markdown",
   "metadata": {}
  },
  {
   "source": [
    "## Data Description\n",
    "The data was originaly sourced from the [UCT NIDS databse] (http://www.nids.uct.ac.za/nids-data/program-library/derived-files) \n",
    "The date downloaded will be gotten from (Rutendo,pls ask). \n",
    "The contents can be seen as below."
   ],
   "cell_type": "markdown",
   "metadata": {}
  },
  {
   "cell_type": "code",
   "execution_count": 5,
   "id": "indonesian-martin",
   "metadata": {},
   "outputs": [
    {
     "output_type": "execute_result",
     "data": {
      "text/plain": [
       "Index(['pid', 'w5_hhid', 'w5_questionnaire', 'w5_match', 'w5_edlstm_schcd',\n",
       "       'w5_edlstm_prov', 'w5_edlstm_quin', 'w5_edlstm_phase',\n",
       "       'w5_edlstm_nofee', 'w5_edlstm_exdept', 'w5_ed14m_schcd',\n",
       "       'w5_ed14m_prov', 'w5_ed14m_quin', 'w5_ed14m_phase', 'w5_ed14m_nofee',\n",
       "       'w5_ed14m_exdept', 'w5_ed15m_schcd', 'w5_ed15m_prov', 'w5_ed15m_quin',\n",
       "       'w5_ed15m_phase', 'w5_ed15m_nofee', 'w5_ed15m_exdept', 'w5_ed16m_schcd',\n",
       "       'w5_ed16m_prov', 'w5_ed16m_quin', 'w5_ed16m_phase', 'w5_ed16m_nofee',\n",
       "       'w5_ed16m_exdept', 'w5_ed17m_schcd', 'w5_ed17m_prov', 'w5_ed17m_quin',\n",
       "       'w5_ed17m_phase', 'w5_ed17m_nofee', 'w5_ed17m_exdept',\n",
       "       'w5_poldistr_id_15', 'w5_poldistr_distance_cat_15', 'w5_polnear_id_15',\n",
       "       'w5_polnear_distance_cat_15'],\n",
       "      dtype='object')"
      ]
     },
     "metadata": {},
     "execution_count": 5
    }
   ],
   "source": [
    "df = pd.read_stata('DataBase.dta')\n",
    "#df['w5_a_dob_d']\n",
    "df.columns\n",
    "#df.head()\n"
   ]
  },
  {
   "source": [
    "The contents are as of right now unreadable, as they were saved in a manner that is explained in a supplemetary pdf file. The file has described the variables as follows.\n",
    "- This = This\n",
    "- That = That\n",
    "\n",
    "The above variables describe the person interviewed, how they were questioned, their location, highest form of education, and a set of distances."
   ],
   "cell_type": "markdown",
   "metadata": {}
  }
 ],
 "metadata": {
  "kernelspec": {
   "name": "python38164bitde33bec5b5ef44afb894064af169029e",
   "display_name": "Python 3.8.1 64-bit"
  },
  "language_info": {
   "codemirror_mode": {
    "name": "ipython",
    "version": 3
   },
   "file_extension": ".py",
   "mimetype": "text/x-python",
   "name": "python",
   "nbconvert_exporter": "python",
   "pygments_lexer": "ipython3",
   "version": "3.8.1"
  },
  "metadata": {
   "interpreter": {
    "hash": "7f4ebe321cc81dfe110c012ed4a50973462ef3410903d4968d527b6cf6ecce02"
   }
  }
 },
 "nbformat": 4,
 "nbformat_minor": 5
}